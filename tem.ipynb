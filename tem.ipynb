{
 "cells": [
  {
   "cell_type": "code",
   "execution_count": 3,
   "metadata": {},
   "outputs": [
    {
     "name": "stdout",
     "output_type": "stream",
     "text": [
      "UTC 时间: 2025-04-23 15:33:04\n",
      "北京时间: 2025-04-23 23:33:04\n"
     ]
    }
   ],
   "source": [
    "import datetime\n",
    "\n",
    "timestamp = 1745422384672 / 1000  # 毫秒转秒\n",
    "utc_time = datetime.datetime.utcfromtimestamp(timestamp)\n",
    "beijing_time = utc_time + datetime.timedelta(hours=8)  # UTC+8\n",
    "\n",
    "print(f\"UTC 时间: {utc_time.strftime('%Y-%m-%d %H:%M:%S')}\")\n",
    "print(f\"北京时间: {beijing_time.strftime('%Y-%m-%d %H:%M:%S')}\")"
   ]
  },
  {
   "cell_type": "code",
   "execution_count": 4,
   "metadata": {},
   "outputs": [
    {
     "name": "stdout",
     "output_type": "stream",
     "text": [
      "UTC 时间: 2025-05-22 15:33:02\n",
      "北京时间: 2025-05-22 23:33:02\n"
     ]
    }
   ],
   "source": [
    "timestamp = 1747927982390 / 1000  # 毫秒转秒\n",
    "utc_time = datetime.datetime.utcfromtimestamp(timestamp)\n",
    "beijing_time = utc_time + datetime.timedelta(hours=8)  # UTC+8\n",
    "\n",
    "print(f\"UTC 时间: {utc_time.strftime('%Y-%m-%d %H:%M:%S')}\")\n",
    "print(f\"北京时间: {beijing_time.strftime('%Y-%m-%d %H:%M:%S')}\")\n"
   ]
  },
  {
   "cell_type": "code",
   "execution_count": null,
   "metadata": {},
   "outputs": [],
   "source": []
  }
 ],
 "metadata": {
  "kernelspec": {
   "display_name": "base",
   "language": "python",
   "name": "python3"
  },
  "language_info": {
   "codemirror_mode": {
    "name": "ipython",
    "version": 3
   },
   "file_extension": ".py",
   "mimetype": "text/x-python",
   "name": "python",
   "nbconvert_exporter": "python",
   "pygments_lexer": "ipython3",
   "version": "3.9.12"
  }
 },
 "nbformat": 4,
 "nbformat_minor": 2
}
