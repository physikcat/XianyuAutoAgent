{
 "cells": [
  {
   "cell_type": "code",
   "execution_count": 1,
   "metadata": {},
   "outputs": [],
   "source": [
    "import base64\n",
    "import json\n",
    "import asyncio\n",
    "import time\n",
    "import os\n",
    "import websockets\n",
    "import sys  \n",
    "sys.path.append(r'H:\\JupyterNote\\Task\\LLM_study\\XianyuAutoAgent') \n"
   ]
  },
  {
   "cell_type": "code",
   "execution_count": 2,
   "metadata": {},
   "outputs": [],
   "source": [
    "cookies_str = \"\"\"cna=ybBvIFZJTiQCAXxPmO1DyIP6; t=02edeb04de3d8900f8e1e97cdc8d94f8; xlly_s=1; cookie2=1a719572c62f9fe9af0157517aeeda19; _samesite_flag_=true; _tb_token_=fd5beb3b54e55; sdkSilent=1745688156045; mtop_partitioned_detect=1; _m_h5_tk=2eb5b08cfc480a40d699a180a57c7ab4_1745667554574; _m_h5_tk_enc=01cfcd12e9615ff853a4f3706d9a5891; sgcookie=E100qIt7RcfqT2teviVTkcpA5FfAXXkIL6EPQ6IeSq1%2FSSgKmZSN4elm%2FSiW1EondDxSy3yLKMVUwIv%2F4Wse47yaDasO%2BwdtNz802yWsMuqUlHE%3D; tracknick=%E7%A9%B6%E6%9E%81%E8%9A%82%E8%9A%81; csg=208dea35; unb=1574452518; havana_lgc2_77=eyJoaWQiOjE1NzQ0NTI1MTgsInNnIjoiN2RlYzFkMTIzZGMwOGMzMzdmYTdlNTdjZjdiMzAzMzciLCJzaXRlIjo3NywidG9rZW4iOiIxbTd6a0tiVVlXU2RieXBpcHhWZjNFZyJ9; _hvn_lgc_=77; havana_lgc_exp=1748250942673; tfstk=gFJrGYZSvYHyQ_Jr-iXU_giKL2WR9T0_Yp_CxHxhVabuF8aHgFYAPBO5PkR2-EC5rQt72IL6j89Sw9wFe9Bn5VMsC0KRp920QjBCynxAxmso5L0TV9Bn5qNbK_HNpUXeiQOkmmSCYz4k-640oZIaZ9bltrVcjZbhKeflnijdbw4lr_fm0MQc-9XH-nc72eY-0wCoATJ8-Ynlm_7MqZywDKSlK7KluJ2H3I5PSe_4KJvV4nwmVyyZONAOP1_MoxwPLnjePZTiI-Wc_CKCYUkzETODMLBWhVrOae75sK14r7jNUa5MEsEaQn1HgKWWE2F9cn7l_tOjM41CUUROW_cxke-VPevPizufRCtXEs8il-8dTCKCYUkzEFjrgyIcIs9payVFZiIV5moVEBkfuU4GBJPL9slA0Ni3KWFdZxsV5mob9WC2ti7sq1f..\"\"\""
   ]
  },
  {
   "cell_type": "code",
   "execution_count": 3,
   "metadata": {},
   "outputs": [
    {
     "name": "stdout",
     "output_type": "stream",
     "text": [
      "驱动安装路径: C:\\Users\\fuhe\\.wdm\\drivers\\edgedriver\\win64\\120.0.2210.181\\msedgedriver.exe\n",
      "已加载历史Cookie，尝试保持会话...\n",
      "当前页面标题: 闲鱼 - 闲不住？上闲鱼！\n",
      "检测到有效会话，跳过登录...\n",
      "主页 cookie [{'domain': '.goofish.com', 'httpOnly': True, 'name': 'cookie2', 'path': '/', 'sameSite': 'Lax', 'secure': True, 'value': '19be9999eb651dc3d01f93f8cfdd046b'}, {'domain': '.goofish.com', 'httpOnly': False, 'name': '_tb_token_', 'path': '/', 'sameSite': 'None', 'secure': True, 'value': 'e76e4e33eba38'}, {'domain': '.goofish.com', 'httpOnly': False, 'name': 'sdkSilent', 'path': '/', 'sameSite': 'None', 'secure': True, 'value': '1745747056633'}, {'domain': '.goofish.com', 'expiry': 1777225625, 'httpOnly': True, 'name': 'sgcookie', 'path': '/', 'sameSite': 'None', 'secure': True, 'value': 'E1004aC8VpLXQus%2FQ%2F31szyIOo11twCS8C2G1A3Hb3P1c61BQYkSwd2C2ofL1H%2FfGGXF7V%2FKkGfEH9oD3YjJt1E7AArMG%2Bp3PClWjXvP4LrIFe4%3D'}, {'domain': '.goofish.com', 'expiry': 1748281246, 'httpOnly': True, 'name': '_hvn_lgc_', 'path': '/', 'sameSite': 'None', 'secure': True, 'value': '77'}, {'domain': '.goofish.com', 'expiry': 1748281246, 'httpOnly': True, 'name': 'havana_lgc2_77', 'path': '/', 'sameSite': 'None', 'secure': True, 'value': 'eyJoaWQiOjE1NzQ0NTI1MTgsInNnIjoiNjkwNzE2ZWUzZmEzNjFhZDcwZDc2MWJiMDVjM2E3ZmQiLCJzaXRlIjo3NywidG9rZW4iOiIxSWhIUE03U0kyWm1vN21tLUk0b2gwQSJ9'}, {'domain': '.goofish.com', 'expiry': 1745948825, 'httpOnly': False, 'name': 'unb', 'path': '/', 'sameSite': 'None', 'secure': True, 'value': '1574452518'}, {'domain': '.goofish.com', 'expiry': 1777225625, 'httpOnly': False, 'name': 'tracknick', 'path': '/', 'sameSite': 'None', 'secure': True, 'value': '%E7%A9%B6%E6%9E%81%E8%9A%82%E8%9A%81'}, {'domain': '.goofish.com', 'expiry': 1753465455, 'httpOnly': False, 'name': 't', 'path': '/', 'sameSite': 'None', 'secure': True, 'value': '973aaaff2e5a3ac0397534190ceaeda0'}, {'domain': '.goofish.com', 'expiry': 1745665825, 'httpOnly': False, 'name': '_m_h5_tk', 'path': '/', 'sameSite': 'None', 'secure': True, 'value': '74f222ab11d477fc943c21fa891f8666_1745668345392'}, {'domain': '.goofish.com', 'expiry': 1780220426, 'httpOnly': False, 'name': 'cna', 'path': '/', 'sameSite': 'None', 'secure': True, 'value': 'CZiTIF6oyD4CAXxPmwxgrj/i'}, {'domain': '.goofish.com', 'expiry': 1748281246, 'httpOnly': False, 'name': 'havana_lgc_exp', 'path': '/', 'sameSite': 'None', 'secure': True, 'value': '1748252445712'}, {'domain': '.goofish.com', 'expiry': 1745919626, 'httpOnly': False, 'name': 'xlly_s', 'path': '/', 'sameSite': 'None', 'secure': True, 'value': '1'}, {'domain': '.goofish.com', 'httpOnly': True, 'name': '_samesite_flag_', 'path': '/', 'sameSite': 'None', 'secure': True, 'value': 'true'}, {'domain': '.goofish.com', 'httpOnly': False, 'name': 'csg', 'path': '/', 'sameSite': 'None', 'secure': True, 'value': '059906cc'}, {'domain': '.goofish.com', 'expiry': 1745665825, 'httpOnly': False, 'name': '_m_h5_tk_enc', 'path': '/', 'sameSite': 'None', 'secure': True, 'value': '1440aa2277bb5298dc4a5961b0f0086f'}, {'domain': '.goofish.com', 'expiry': 1761213213, 'httpOnly': False, 'name': 'tfstk', 'path': '/', 'sameSite': 'Lax', 'secure': False, 'value': 'gVJwy0qsDAHZFOvZoMX4aGgbi66OHO07uK_fmnxcfNbgCRaDTUYd5IO15oReoeC1SK-Y3ixDkcQjXXt9XtBmP4TqFhKTsviqz26mmHXf0RADZat9XtEKP4MSFhEVp2lZutYcK9jPbtVGSimFtG_3Ii2GmymFDwXcoEXmYHbdmtjigRYDWD7Asm6Z7lgM3G5NrhbHfh9hbz_kjwy0nmsNs6tG8-2DKI5rdn_iwk_ACNKGbEH8BOf2wns27AyMu3pp8MYo38_Mv3O56dcbF_W17s9GUoDMYO7NZd1gm-LkYnA5TpioeOWGSI69cuu6Yd86Xp-bmWXNCB5yQTD8SZOB4KS2HqHez3pp8MYo3VjzFrIhE69v_rVVsMIFPDoFIIkC8XbNIAPYM6ldYai0nSFAsBeb_KnQMSCe6M7SXs1..'}, {'domain': '.goofish.com', 'expiry': 1745665825, 'httpOnly': False, 'name': 'mtop_partitioned_detect', 'path': '/', 'sameSite': 'None', 'secure': True, 'value': '1'}]\n"
     ]
    },
    {
     "ename": "TypeError",
     "evalue": "list indices must be integers or slices, not str",
     "output_type": "error",
     "traceback": [
      "\u001b[1;31m---------------------------------------------------------------------------\u001b[0m",
      "\u001b[1;31mTypeError\u001b[0m                                 Traceback (most recent call last)",
      "Cell \u001b[1;32mIn[3], line 3\u001b[0m\n\u001b[0;32m      1\u001b[0m \u001b[38;5;28;01mfrom\u001b[39;00m \u001b[38;5;21;01mdriver_holder\u001b[39;00m \u001b[38;5;28;01mimport\u001b[39;00m DriverHolder\n\u001b[0;32m      2\u001b[0m driver \u001b[38;5;241m=\u001b[39m DriverHolder() \n\u001b[1;32m----> 3\u001b[0m cookies_str \u001b[38;5;241m=\u001b[39m \u001b[43mdriver\u001b[49m\u001b[38;5;241;43m.\u001b[39;49m\u001b[43mget_xianyu_cookie\u001b[49m\u001b[43m(\u001b[49m\u001b[43m)\u001b[49m\n\u001b[0;32m      4\u001b[0m cookies_str \n",
      "File \u001b[1;32mH:\\JupyterNote\\Task\\LLM_study\\XianyuAutoAgent\\driver_holder.py:64\u001b[0m, in \u001b[0;36mDriverHolder.get_xianyu_cookie\u001b[1;34m(self)\u001b[0m\n\u001b[0;32m     62\u001b[0m \u001b[38;5;28mself\u001b[39m\u001b[38;5;241m.\u001b[39mdriver\u001b[38;5;241m.\u001b[39mget(\u001b[38;5;124m'\u001b[39m\u001b[38;5;124mhttps://www.goofish.com/im?spm=a21ybx.home.sidebar.1.4c053da6EEIHQx\u001b[39m\u001b[38;5;124m'\u001b[39m)  \n\u001b[0;32m     63\u001b[0m cookies \u001b[38;5;241m=\u001b[39m \u001b[38;5;28mself\u001b[39m\u001b[38;5;241m.\u001b[39mdriver\u001b[38;5;241m.\u001b[39mget_cookies()\n\u001b[1;32m---> 64\u001b[0m \u001b[38;5;28mprint\u001b[39m(\u001b[38;5;124m'\u001b[39m\u001b[38;5;124m聊天 cookie\u001b[39m\u001b[38;5;124m'\u001b[39m, \u001b[43mcookies\u001b[49m\u001b[43m[\u001b[49m\u001b[38;5;124;43m'\u001b[39;49m\u001b[38;5;124;43mtfstk\u001b[39;49m\u001b[38;5;124;43m'\u001b[39;49m\u001b[43m]\u001b[49m)  \n\u001b[0;32m     65\u001b[0m cookie_str \u001b[38;5;241m=\u001b[39m \u001b[38;5;124m\"\u001b[39m\u001b[38;5;124m; \u001b[39m\u001b[38;5;124m\"\u001b[39m\u001b[38;5;241m.\u001b[39mjoin([\u001b[38;5;124mf\u001b[39m\u001b[38;5;124m\"\u001b[39m\u001b[38;5;132;01m{\u001b[39;00mc[\u001b[38;5;124m'\u001b[39m\u001b[38;5;124mname\u001b[39m\u001b[38;5;124m'\u001b[39m]\u001b[38;5;132;01m}\u001b[39;00m\u001b[38;5;124m=\u001b[39m\u001b[38;5;132;01m{\u001b[39;00mc[\u001b[38;5;124m'\u001b[39m\u001b[38;5;124mvalue\u001b[39m\u001b[38;5;124m'\u001b[39m]\u001b[38;5;132;01m}\u001b[39;00m\u001b[38;5;124m\"\u001b[39m \u001b[38;5;28;01mfor\u001b[39;00m c \u001b[38;5;129;01min\u001b[39;00m cookies])\n\u001b[0;32m     66\u001b[0m \u001b[38;5;28mprint\u001b[39m(cookie_str)\n",
      "\u001b[1;31mTypeError\u001b[0m: list indices must be integers or slices, not str"
     ]
    }
   ],
   "source": [
    "from driver_holder import DriverHolder\n",
    "driver = DriverHolder() \n",
    "cookies_str = driver.get_xianyu_cookie()\n",
    "cookies_str "
   ]
  },
  {
   "cell_type": "code",
   "execution_count": 4,
   "metadata": {},
   "outputs": [
    {
     "data": {
      "text/plain": [
       "'cookie2=19be9999eb651dc3d01f93f8cfdd046b; _tb_token_=e76e4e33eba38; sdkSilent=1745747056633; sgcookie=E1004aC8VpLXQus%2FQ%2F31szyIOo11twCS8C2G1A3Hb3P1c61BQYkSwd2C2ofL1H%2FfGGXF7V%2FKkGfEH9oD3YjJt1E7AArMG%2Bp3PClWjXvP4LrIFe4%3D; _hvn_lgc_=77; havana_lgc2_77=eyJoaWQiOjE1NzQ0NTI1MTgsInNnIjoiNjkwNzE2ZWUzZmEzNjFhZDcwZDc2MWJiMDVjM2E3ZmQiLCJzaXRlIjo3NywidG9rZW4iOiIxSWhIUE03U0kyWm1vN21tLUk0b2gwQSJ9; unb=1574452518; tracknick=%E7%A9%B6%E6%9E%81%E8%9A%82%E8%9A%81; t=973aaaff2e5a3ac0397534190ceaeda0; _m_h5_tk=74f222ab11d477fc943c21fa891f8666_1745668345392; cna=CZiTIF6oyD4CAXxPmwxgrj/i; havana_lgc_exp=1748252445712; xlly_s=1; _samesite_flag_=true; csg=059906cc; _m_h5_tk_enc=1440aa2277bb5298dc4a5961b0f0086f; tfstk=g0ySTSx2HUY7bRL0qaIqfbohk-HIAy6wOHiLjkpyvYHJJeEtuzurUMXIJz04U4rre9wIE-PyL47odkUZdN7NQOruqxDd7N5PQ00ipDBEJsl-qE9-wN7NQt5JDv_57yzQDqKjxqn-2LHdcjnt2vK-py3xMcnwyvHLJitxX0t-JLd-Dq3mvv3LJvIjHbIelD8S0uslAcZabTBbVq9pp-iR-VESlmm0h0GSWj3Xp3wjVbgTVR9Y7RmY3-GZgH7qHlV4ymM13QHTcWU_6yfwiYZLwycbrZAjuSeuv2h2vdrjO4NYejtppoDxPfVQPaOoy7zjsmhvAOm47qEueSsHkuUZPYnxgOI_DXF4Ef2PkLMTsukz9yfwiYZLwxsPodu1BidBcfvIcVSfcBAhmJ_oXjhnQWl-m0BNciT4KbnmcRyFcBOqwmm8LisXPY5..; mtop_partitioned_detect=1'"
      ]
     },
     "execution_count": 4,
     "metadata": {},
     "output_type": "execute_result"
    }
   ],
   "source": [
    "cookies_str = driver.update_cookie()\n",
    "cookies_str"
   ]
  },
  {
   "cell_type": "code",
   "execution_count": 10,
   "metadata": {},
   "outputs": [],
   "source": [
    "driver.close() "
   ]
  },
  {
   "cell_type": "code",
   "execution_count": 8,
   "metadata": {},
   "outputs": [],
   "source": [
    "\n",
    "from loguru import logger\n",
    "from dotenv import load_dotenv\n",
    "from XianyuApis import XianyuApis\n",
    "\n",
    "from utils.xianyu_utils import generate_mid, generate_uuid, trans_cookies, generate_device_id, decrypt\n",
    "from XianyuAgent import XianyuReplyBot\n",
    "from context_manager import ChatContextManager"
   ]
  },
  {
   "cell_type": "code",
   "execution_count": 9,
   "metadata": {},
   "outputs": [
    {
     "data": {
      "text/plain": [
       "{'api': 'mtop.taobao.idlemessage.pc.login.token',\n",
       " 'data': {'accessToken': 'oauth_k1:fYb1ecIr4cRxfMXlV43ddt6Tmf68pzyyrMRl9X4c/brH42JkES758GvpAUIM03mkN0vNdHAMWuEZ4J/+s9/DBA==',\n",
       "  'accessTokenExpiredTime': '86400000',\n",
       "  'refreshToken': 'oauth_k1:jqVwZMqjiGtxvkDOJsWMFufoMN6MbM0lDkSSN7eGwhGFlGnOCl/i/TF1+CNfQDbJPlnWeTYI9vrte+MiCRMiYQ=='},\n",
       " 'ret': ['SUCCESS::调用成功'],\n",
       " 'v': '1.0'}"
      ]
     },
     "execution_count": 9,
     "metadata": {},
     "output_type": "execute_result"
    }
   ],
   "source": [
    "xianyu = XianyuApis() \n",
    "cookies = trans_cookies(cookies_str)\n",
    "myid = cookies['unb']\n",
    "device_id = generate_device_id(myid)\n",
    "token_response = xianyu.get_token(cookies, device_id) \n",
    "token_response "
   ]
  },
  {
   "cell_type": "code",
   "execution_count": 6,
   "metadata": {},
   "outputs": [
    {
     "data": {
      "text/plain": [
       "{'sgcookie': 'E1004aC8VpLXQus%2FQ%2F31szyIOo11twCS8C2G1A3Hb3P1c61BQYkSwd2C2ofL1H%2FfGGXF7V%2FKkGfEH9oD3YjJt1E7AArMG%2Bp3PClWjXvP4LrIFe4%3D',\n",
       " 'sdkSilent': '1745747056633',\n",
       " '_tb_token_': 'e76e4e33eba38',\n",
       " 'cookie2': '19be9999eb651dc3d01f93f8cfdd046b',\n",
       " '_hvn_lgc_': '77',\n",
       " 'havana_lgc2_77': 'eyJoaWQiOjE1NzQ0NTI1MTgsInNnIjoiNjkwNzE2ZWUzZmEzNjFhZDcwZDc2MWJiMDVjM2E3ZmQiLCJzaXRlIjo3NywidG9rZW4iOiIxSWhIUE03U0kyWm1vN21tLUk0b2gwQSJ9',\n",
       " 'unb': '1574452518',\n",
       " 'tracknick': '%E7%A9%B6%E6%9E%81%E8%9A%82%E8%9A%81',\n",
       " 't': '973aaaff2e5a3ac0397534190ceaeda0',\n",
       " '_m_h5_tk': '74f222ab11d477fc943c21fa891f8666_1745668345392',\n",
       " 'cna': 'CZiTIF6oyD4CAXxPmwxgrj/i',\n",
       " 'havana_lgc_exp': '1748252445712',\n",
       " 'xlly_s': '1',\n",
       " 'csg': '059906cc',\n",
       " '_samesite_flag_': 'true',\n",
       " '_m_h5_tk_enc': '1440aa2277bb5298dc4a5961b0f0086f',\n",
       " 'tfstk': 'gW9HrYcFuB5Clf8YJFWIi3cRJMG9Ak659UeRyTQr_N7_Jyep4zYk7EKLpLKPrUYO5HCpE3wl438SAanI6HtCFTuxkUDvAHZkXsyiWToybTIkEe8_EHtCFlgxkxHvAuXsRc0hUUWNQijhUMSyzN7N5gsz8gyEjh717aWPUU-Zjg_NYjk_TZIPJdu68BCXYrUvIMfho8QgE8mRx6b2YNj1fdW5tZ-FS80HEb15rN9qWfx6oB8dfUDmSTT6aUSk7PuRO3RMSMYKoz_JdHplJHcERhX1-OJeiuyyj9bCZp5T-Vb2dhJfQ1HqmhJ6JH9M2ukPXEQwApWo3m6hLwWGfL3_LaAwapCCFyuAO3RMSMXV4hVagaXbFGoJQ7N5TGsGk6L2xrmh4vujjcVvV6S14Inij7iLl8y-CcmgMm1FfMM1.',\n",
       " 'mtop_partitioned_detect': '1'}"
      ]
     },
     "execution_count": 6,
     "metadata": {},
     "output_type": "execute_result"
    }
   ],
   "source": [
    "cookies "
   ]
  },
  {
   "cell_type": "code",
   "execution_count": null,
   "metadata": {},
   "outputs": [],
   "source": []
  }
 ],
 "metadata": {
  "kernelspec": {
   "display_name": "Python 3",
   "language": "python",
   "name": "python3"
  },
  "language_info": {
   "codemirror_mode": {
    "name": "ipython",
    "version": 3
   },
   "file_extension": ".py",
   "mimetype": "text/x-python",
   "name": "python",
   "nbconvert_exporter": "python",
   "pygments_lexer": "ipython3",
   "version": "3.10.8"
  }
 },
 "nbformat": 4,
 "nbformat_minor": 2
}
