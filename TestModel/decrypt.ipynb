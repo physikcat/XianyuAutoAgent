{
 "cells": [
  {
   "cell_type": "code",
   "execution_count": 3,
   "metadata": {},
   "outputs": [],
   "source": [
    "from utils.xianyu_utils import generate_mid, generate_uuid, trans_cookies, generate_device_id, decrypt\n",
    "import base64\n",
    "import json  \n"
   ]
  },
  {
   "cell_type": "code",
   "execution_count": 4,
   "metadata": {},
   "outputs": [],
   "source": [
    "data = \"\"\"ggGLAYEBsTMxNzQ0Mzk4M0Bnb29maXNoArM0OTM2MTQyNjgyOEBnb29maXNoA7EzNDc3OTY3Nzk2MDg5LlBOTQQABc8AAAGWb+My5QaCAWUDhQGgArXku4rlpKnlkJfog73lvIDpgJrlkJcDoAQBBdoARnsiYXRVc2VycyI6W10sImNvbnRlbnRUeXBlIjoxLCJ0ZXh0Ijp7InRleHQiOiLku4rlpKnlkJfog73lvIDpgJrlkJcifX0HAggBCQAKi6lfcGxhdGZvcm2nYW5kcm9pZKZiaXpUYWfaAEF7InNvdXJjZUlkIjoiUzoxIiwibWVzc2FnZUlkIjoiZGNlZWE3ZDE3NGY5NDNiYThlMzk1ZTIzM2FjMTE5Y2IifaxkZXRhaWxOb3RpY2W15LuK5aSp5ZCX6IO95byA6YCa5ZCXp2V4dEpzb27aAEt7InF1aWNrUmVwbHkiOiIxIiwibWVzc2FnZUlkIjoiZGNlZWE3ZDE3NGY5NDNiYThlMzk1ZTIzM2FjMTE5Y2IiLCJ0YWciOiJ1In2vcmVtaW5kZXJDb250ZW50teS7iuWkqeWQl+iDveW8gOmAmuWQl65yZW1pbmRlck5vdGljZbXlj5HmnaXkuIDmnaHmlrDmtojmga+tcmVtaW5kZXJUaXRsZazpgJrlpKnluJ3lm72rcmVtaW5kZXJVcmzaAJlmbGVhbWFya2V0Oi8vbWVzc2FnZV9jaGF0P2l0ZW1JZD05MTIzNzI1MjUwNTEmcGVlclVzZXJJZD0zMTc0NDM5ODMmcGVlclVzZXJOaWNrPWwqKirluIImc2lkPTQ5MzYxNDI2ODI4Jm1lc3NhZ2VJZD1kY2VlYTdkMTc0Zjk0M2JhOGUzOTVlMjMzYWMxMTljYiZhZHY9bm+sc2VuZGVyVXNlcklkqTMxNzQ0Mzk4M65zZW5kZXJVc2VyVHlwZaEwq3Nlc3Npb25UeXBloTEMAQOBqG5lZWRQdXNopHRydWU=\"\"\""
   ]
  },
  {
   "cell_type": "code",
   "execution_count": 40,
   "metadata": {},
   "outputs": [],
   "source": [
    "data = \"\"\"ggGLAYEBsjE1NzQ0NTI1MThAZ29vZmlzaAKzNDkwMDE2Mjg3NDFAZ29vZmlzaAOxMzQ3NzcyMzMwMTM3MC5QTk0EAAXPAAABlnBV6Z8GggFlA4UBoAKoW+WbvueJh10DoAQCBdoAv3siYXRVc2VycyI6W10sImNvbnRlbnRUeXBlIjoyLCJpbWFnZSI6eyJwaWNzIjpbeyJoZWlnaHQiOjgwNCwidHlwZSI6MCwidXJsIjoiaHR0cHM6Ly9pbWcuYWxpY2RuLmNvbS9pbWdleHRyYS9pMi8xNTc0NDUyNTE4L08xQ04wMTQ3VUZ1SDFVVElMSzlDVWE4XyEhMTU3NDQ1MjUxOC0wLXh5X2NoYXQuanBnIiwid2lkdGgiOjEwODB9XX19BwIIAQkACoupX3BsYXRmb3Jtp2FuZHJvaWSmYml6VGFn2gBBeyJzb3VyY2VJZCI6IlM6MSIsIm1lc3NhZ2VJZCI6ImEzOWM0YjI3OThkZTRlODhhNjA4MWFkZWRhYTI1MDZkIn2sZGV0YWlsTm90aWNlqFvlm77niYddp2V4dEpzb27aAEt7InF1aWNrUmVwbHkiOiIxIiwibWVzc2FnZUlkIjoiYTM5YzRiMjc5OGRlNGU4OGE2MDgxYWRlZGFhMjUwNmQiLCJ0YWciOiJ1In2vcmVtaW5kZXJDb250ZW50qFvlm77niYddrnJlbWluZGVyTm90aWNlteWPkeadpeS4gOadoeaWsOa2iOaBr61yZW1pbmRlclRpdGxluOmxvOWwj+mTuuW8gOmAmuaJvuiAgeS9latyZW1pbmRlclVybNoAnGZsZWFtYXJrZXQ6Ly9tZXNzYWdlX2NoYXQ/aXRlbUlkPTkxMjM3MjUyNTA1MSZwZWVyVXNlcklkPTE1NzQ0NTI1MTgmcGVlclVzZXJOaWNrPeeptioqKuiagSZzaWQ9NDkwMDE2Mjg3NDEmbWVzc2FnZUlkPWEzOWM0YjI3OThkZTRlODhhNjA4MWFkZWRhYTI1MDZkJmFkdj1ub6xzZW5kZXJVc2VySWSqMTU3NDQ1MjUxOK5zZW5kZXJVc2VyVHlwZaEwq3Nlc3Npb25UeXBloTEMAQOBqG5lZWRQdXNopWZhbHNl\n",
    "\"\"\"\n",
    "\n",
    "data = \"\"\"\n",
    "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\n",
    "\"\"\"\n",
    "\n",
    "\n"
   ]
  },
  {
   "cell_type": "code",
   "execution_count": 41,
   "metadata": {},
   "outputs": [],
   "source": [
    "decrypted_data = decrypt(data)\n",
    "message = json.loads(decrypted_data)"
   ]
  },
  {
   "cell_type": "code",
   "execution_count": 42,
   "metadata": {},
   "outputs": [
    {
     "data": {
      "text/plain": [
       "{'1': {'1': {'1': '3256051110@goofish'},\n",
       "  '2': '49298580533@goofish',\n",
       "  '3': '3478485809151.PNM',\n",
       "  '4': 0,\n",
       "  '5': '1745650640385',\n",
       "  '6': {'1': 101,\n",
       "   '3': {'1': '',\n",
       "    '2': '快给ta一个评价吧～',\n",
       "    '3': '',\n",
       "    '4': 25,\n",
       "    '5': '{\"contentType\":25,\"dxCard\":{\"item\":{\"main\":{\"clickParam\":{\"arg1\":\"MsgCard\",\"args\":{\"source\":\"im\",\"task_id\":\"p3ve6cUxmnge\",\"msg_id\":\"a373478a3bb147fd9b780fe57e893f0f\"}},\"exContent\":{\"backgroundColor\":\"#F2F2F4\",\"button\":{\"bgColor\":\"#FFFFFF\",\"borderColor\":\"#FFFFFF\",\"clickParam\":{\"arg1\":\"MsgCardAction\",\"args\":{\"source\":\"im\",\"task_id\":\"p3ve6cUxmnge\",\"msg_id\":\"a373478a3bb147fd9b780fe57e893f0f\"}},\"fontColor\":\"#1F1F1F\",\"targetUrl\":\"fleamarket://post_review?createOrAppend=0&tradeId=4315868498381051011&buyerOrSeller=1&isThanks=0\",\"text\":\"去评价\"},\"subTitle\":\"说说这次的交易体验，帮助更多人\",\"title\":\"快给ta一个评价吧～\"}}},\"template\":{\"name\":\"red_flower_lottery_card\",\"url\":\"https://dinamicx.alibabausercontent.com/pub/red_flower_lottery_card/1731482758404/red_flower_lottery_card.zip\",\"version\":\"1731482758404\"}}}'}},\n",
       "  '7': 1,\n",
       "  '8': 1,\n",
       "  '9': 1,\n",
       "  '10': {'bizTag': '{\"sourceId\":\"C2C:p3ve6cUxmnge\",\"taskName\":\"确认收货带评价_卖家\",\"materialId\":\"p3ve6cUxmnge\",\"taskId\":\"p3ve6cUxmnge\"}',\n",
       "   'closePushReceiver': 'true',\n",
       "   'closeUnreadNumber': 'true',\n",
       "   'detailNotice': '快给ta一个评价吧～',\n",
       "   'extJson': '{\"msgArgs\":{\"task_id\":\"p3ve6cUxmnge\",\"source\":\"im\",\"msg_id\":\"a373478a3bb147fd9b780fe57e893f0f\"},\"msgArg1\":\"MsgCard\",\"updateKey\":\"4315868498381051011:20:BUYER_CONFIRM_RATE_SELLER:74\",\"messageId\":\"a373478a3bb147fd9b780fe57e893f0f\",\"contentType\":\"25\"}',\n",
       "   'receiver': '1574452518',\n",
       "   'reminderContent': '快给ta一个评价吧～',\n",
       "   'reminderNotice': '快给ta一个评价吧～',\n",
       "   'reminderTitle': '快给ta一个评价吧～',\n",
       "   'reminderUrl': 'fleamarket://message_chat?itemId=912372525051&peerUserId=3256051110&peerUserNick=h***5&sid=49298580533&messageId=a373478a3bb147fd9b780fe57e893f0f&adv=no',\n",
       "   'senderUserId': '3256051110',\n",
       "   'senderUserType': '0',\n",
       "   'sessionType': '1'},\n",
       "  '12': 1},\n",
       " '3': {'needPush': 'false'}}"
      ]
     },
     "execution_count": 42,
     "metadata": {},
     "output_type": "execute_result"
    }
   ],
   "source": [
    "message"
   ]
  },
  {
   "cell_type": "code",
   "execution_count": null,
   "metadata": {},
   "outputs": [],
   "source": []
  },
  {
   "cell_type": "code",
   "execution_count": null,
   "metadata": {},
   "outputs": [],
   "source": []
  },
  {
   "cell_type": "code",
   "execution_count": null,
   "metadata": {},
   "outputs": [],
   "source": []
  },
  {
   "cell_type": "code",
   "execution_count": null,
   "metadata": {},
   "outputs": [],
   "source": []
  },
  {
   "cell_type": "code",
   "execution_count": 33,
   "metadata": {},
   "outputs": [
    {
     "data": {
      "text/plain": [
       "{'1': {'1': {'1': '1574452518@goofish'},\n",
       "  '2': '49360553011@goofish',\n",
       "  '3': '3471350242886.PNM',\n",
       "  '4': 0,\n",
       "  '5': '1745641484469',\n",
       "  '6': {'1': 101,\n",
       "   '3': {'1': '',\n",
       "    '2': '下单后帮你开通',\n",
       "    '3': '',\n",
       "    '4': 1,\n",
       "    '5': '{\"atUsers\":[],\"contentType\":1,\"text\":{\"text\":\"下单后帮你开通\"}}'}},\n",
       "  '7': 2,\n",
       "  '8': 1,\n",
       "  '9': 0,\n",
       "  '10': {'_platform': 'android',\n",
       "   'bizTag': '{\"sourceId\":\"S:1\",\"messageId\":\"81a20806310249ec9f7dfe5cb8c43c3d\"}',\n",
       "   'detailNotice': '下单后帮你开通',\n",
       "   'extJson': '{\"quickReply\":\"1\",\"messageId\":\"81a20806310249ec9f7dfe5cb8c43c3d\",\"tag\":\"u\"}',\n",
       "   'reminderContent': '下单后帮你开通',\n",
       "   'reminderNotice': '发来一条新消息',\n",
       "   'reminderTitle': '鱼小铺开通找老何',\n",
       "   'reminderUrl': 'fleamarket://message_chat?itemId=912372525051&peerUserId=1574452518&peerUserNick=究***蚁&sid=49360553011&messageId=81a20806310249ec9f7dfe5cb8c43c3d&adv=no',\n",
       "   'senderUserId': '1574452518',\n",
       "   'senderUserType': '0',\n",
       "   'sessionType': '1'},\n",
       "  '12': 1},\n",
       " '3': {'needPush': 'false'}}"
      ]
     },
     "execution_count": 33,
     "metadata": {},
     "output_type": "execute_result"
    }
   ],
   "source": [
    "message "
   ]
  },
  {
   "cell_type": "code",
   "execution_count": null,
   "metadata": {},
   "outputs": [],
   "source": []
  },
  {
   "cell_type": "code",
   "execution_count": 27,
   "metadata": {},
   "outputs": [
    {
     "data": {
      "text/plain": [
       "{'1': {'1': {'1': '1574452518@goofish'},\n",
       "  '2': '49001628741@goofish',\n",
       "  '3': '3477723301370.PNM',\n",
       "  '4': 0,\n",
       "  '5': '1745641400735',\n",
       "  '6': {'1': 101,\n",
       "   '3': {'1': '',\n",
       "    '2': '[图片]',\n",
       "    '3': '',\n",
       "    '4': 2,\n",
       "    '5': '{\"atUsers\":[],\"contentType\":2,\"image\":{\"pics\":[{\"height\":804,\"type\":0,\"url\":\"https://img.alicdn.com/imgextra/i2/1574452518/O1CN0147UFuH1UTILK9CUa8_!!1574452518-0-xy_chat.jpg\",\"width\":1080}]}}'}},\n",
       "  '7': 2,\n",
       "  '8': 1,\n",
       "  '9': 0,\n",
       "  '10': {'_platform': 'android',\n",
       "   'bizTag': '{\"sourceId\":\"S:1\",\"messageId\":\"a39c4b2798de4e88a6081adedaa2506d\"}',\n",
       "   'detailNotice': '[图片]',\n",
       "   'extJson': '{\"quickReply\":\"1\",\"messageId\":\"a39c4b2798de4e88a6081adedaa2506d\",\"tag\":\"u\"}',\n",
       "   'reminderContent': '[图片]',\n",
       "   'reminderNotice': '发来一条新消息',\n",
       "   'reminderTitle': '鱼小铺开通找老何',\n",
       "   'reminderUrl': 'fleamarket://message_chat?itemId=912372525051&peerUserId=1574452518&peerUserNick=究***蚁&sid=49001628741&messageId=a39c4b2798de4e88a6081adedaa2506d&adv=no',\n",
       "   'senderUserId': '1574452518',\n",
       "   'senderUserType': '0',\n",
       "   'sessionType': '1'},\n",
       "  '12': 1},\n",
       " '3': {'needPush': 'false'}}"
      ]
     },
     "execution_count": 27,
     "metadata": {},
     "output_type": "execute_result"
    }
   ],
   "source": [
    "message "
   ]
  },
  {
   "cell_type": "code",
   "execution_count": null,
   "metadata": {},
   "outputs": [],
   "source": []
  }
 ],
 "metadata": {
  "kernelspec": {
   "display_name": "base",
   "language": "python",
   "name": "python3"
  },
  "language_info": {
   "codemirror_mode": {
    "name": "ipython",
    "version": 3
   },
   "file_extension": ".py",
   "mimetype": "text/x-python",
   "name": "python",
   "nbconvert_exporter": "python",
   "pygments_lexer": "ipython3",
   "version": "3.10.8"
  }
 },
 "nbformat": 4,
 "nbformat_minor": 2
}
